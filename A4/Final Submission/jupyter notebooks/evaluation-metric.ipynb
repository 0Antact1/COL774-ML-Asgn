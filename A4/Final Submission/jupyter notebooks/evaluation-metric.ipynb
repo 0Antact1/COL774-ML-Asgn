{
 "cells": [
  {
   "cell_type": "code",
   "execution_count": 1,
   "id": "5febe775",
   "metadata": {
    "_cell_guid": "b1076dfc-b9ad-4769-8c92-a6c4dae69d19",
    "_uuid": "8f2839f25d086af736a60e9eeb907d3b93b6e0e5",
    "execution": {
     "iopub.execute_input": "2023-11-28T07:06:45.060679Z",
     "iopub.status.busy": "2023-11-28T07:06:45.060034Z",
     "iopub.status.idle": "2023-11-28T07:07:04.572860Z",
     "shell.execute_reply": "2023-11-28T07:07:04.571474Z"
    },
    "papermill": {
     "duration": 19.522338,
     "end_time": "2023-11-28T07:07:04.576072",
     "exception": false,
     "start_time": "2023-11-28T07:06:45.053734",
     "status": "completed"
    },
    "tags": []
   },
   "outputs": [
    {
     "name": "stdout",
     "output_type": "stream",
     "text": [
      "Processing /kaggle/input/nltk-version/nltk-3.8.1-py3-none-any.whl\r\n",
      "Requirement already satisfied: click in /opt/conda/lib/python3.10/site-packages (from nltk==3.8.1) (8.1.7)\r\n",
      "Requirement already satisfied: joblib in /opt/conda/lib/python3.10/site-packages (from nltk==3.8.1) (1.3.2)\r\n",
      "Requirement already satisfied: regex>=2021.8.3 in /opt/conda/lib/python3.10/site-packages (from nltk==3.8.1) (2023.6.3)\r\n",
      "Requirement already satisfied: tqdm in /opt/conda/lib/python3.10/site-packages (from nltk==3.8.1) (4.66.1)\r\n",
      "Installing collected packages: nltk\r\n",
      "  Attempting uninstall: nltk\r\n",
      "    Found existing installation: nltk 3.2.4\r\n",
      "    Uninstalling nltk-3.2.4:\r\n",
      "      Successfully uninstalled nltk-3.2.4\r\n",
      "\u001b[31mERROR: pip's dependency resolver does not currently take into account all the packages that are installed. This behaviour is the source of the following dependency conflicts.\r\n",
      "preprocessing 0.1.13 requires nltk==3.2.4, but you have nltk 3.8.1 which is incompatible.\u001b[0m\u001b[31m\r\n",
      "\u001b[0mSuccessfully installed nltk-3.8.1\r\n"
     ]
    }
   ],
   "source": [
    "!pip install \"/kaggle/input/nltk-version/nltk-3.8.1-py3-none-any.whl\""
   ]
  },
  {
   "cell_type": "code",
   "execution_count": 1,
   "id": "b99f2789",
   "metadata": {
    "execution": {
     "iopub.execute_input": "2023-11-28T07:07:04.587586Z",
     "iopub.status.busy": "2023-11-28T07:07:04.587102Z",
     "iopub.status.idle": "2023-11-28T07:07:06.894511Z",
     "shell.execute_reply": "2023-11-28T07:07:06.893264Z"
    },
    "papermill": {
     "duration": 2.316761,
     "end_time": "2023-11-28T07:07:06.897646",
     "exception": false,
     "start_time": "2023-11-28T07:07:04.580885",
     "status": "completed"
    },
    "tags": []
   },
   "outputs": [
    {
     "name": "stderr",
     "output_type": "stream",
     "text": [
      "c:\\Python310\\lib\\site-packages\\numpy\\_distributor_init.py:30: UserWarning: loaded more than 1 DLL from .libs:\n",
      "c:\\Python310\\lib\\site-packages\\numpy\\.libs\\libopenblas.EL2C6PLE4ZYW3ECEVIV3OXXGRN2NRFM2.gfortran-win_amd64.dll\n",
      "c:\\Python310\\lib\\site-packages\\numpy\\.libs\\libopenblas64__v0.3.21-gcc_10_3_0.dll\n",
      "  warnings.warn(\"loaded more than 1 DLL from .libs:\"\n"
     ]
    }
   ],
   "source": [
    "import nltk\n",
    "\n",
    "def sbleu(GT,PRED):\n",
    "    score = 0\n",
    "    for i in range(len(GT)):\n",
    "        Lgt = len(GT[i].split(' '))\n",
    "        if Lgt > 4 :\n",
    "            cscore = nltk.translate.bleu_score.sentence_bleu([GT[i].split(' ')],PRED[i].split(' '),weights=(0.25,0.25,0.25,0.25),smoothing_function=nltk.translate.bleu_score.SmoothingFunction().method4)\n",
    "        else:\n",
    "            weight_lst = tuple([1.0/Lgt]*Lgt)\n",
    "            cscore = nltk.translate.bleu_score.sentence_bleu([GT[i].split(' ')],PRED[i].split(' '),weights=weight_lst,smoothing_function=nltk.translate.bleu_score.SmoothingFunction().method4)\n",
    "        score += cscore\n",
    "    return score/(len(GT))"
   ]
  },
  {
   "cell_type": "code",
   "execution_count": 2,
   "id": "50b92019",
   "metadata": {
    "execution": {
     "iopub.execute_input": "2023-11-28T07:07:06.908055Z",
     "iopub.status.busy": "2023-11-28T07:07:06.907389Z",
     "iopub.status.idle": "2023-11-28T07:07:06.916713Z",
     "shell.execute_reply": "2023-11-28T07:07:06.915489Z"
    },
    "papermill": {
     "duration": 0.017757,
     "end_time": "2023-11-28T07:07:06.919570",
     "exception": false,
     "start_time": "2023-11-28T07:07:06.901813",
     "status": "completed"
    },
    "tags": []
   },
   "outputs": [
    {
     "data": {
      "text/plain": [
       "'3.8.1'"
      ]
     },
     "execution_count": 2,
     "metadata": {},
     "output_type": "execute_result"
    }
   ],
   "source": [
    "import nltk\n",
    "nltk.__version__"
   ]
  },
  {
   "cell_type": "code",
   "execution_count": 3,
   "id": "c05d7034",
   "metadata": {
    "execution": {
     "iopub.execute_input": "2023-11-28T07:07:06.931025Z",
     "iopub.status.busy": "2023-11-28T07:07:06.929695Z",
     "iopub.status.idle": "2023-11-28T07:07:06.943618Z",
     "shell.execute_reply": "2023-11-28T07:07:06.942413Z"
    },
    "papermill": {
     "duration": 0.022359,
     "end_time": "2023-11-28T07:07:06.946134",
     "exception": false,
     "start_time": "2023-11-28T07:07:06.923775",
     "status": "completed"
    },
    "tags": []
   },
   "outputs": [
    {
     "data": {
      "text/plain": [
       "1.0"
      ]
     },
     "execution_count": 3,
     "metadata": {},
     "output_type": "execute_result"
    }
   ],
   "source": [
    "ground_truths = ['$ \\\\mbox { j B d } $',\n",
    "                 '$ s _ 0 = 2 $',\n",
    "                 '$ \\\\lim _ { y \\\\to \\\\infty } y \\\\sin ( \\\\frac { c } { y } ) = c $',\n",
    "                 '$ \\\\cos a = 0 . 2 $',\n",
    "                 '$ M ( R ) $',\n",
    "                 '$ { \\\\cdots + { \\\\cos } ^ { 8 } H } $',\n",
    "                 '$ \\\\sum _ { { X \\\\gt a } } { { \\\\alpha - c } } $',\n",
    "                 '$ x ( \\\\theta ) = a \\\\sin ( \\\\theta ) $',\n",
    "                 '$ \\\\sin \\\\phi = 2 \\\\sin \\\\frac { \\\\phi } { 2 } \\\\cos \\\\frac { \\\\phi } { 2 } $',\n",
    "                 '$ \\\\sum _ { n = 1 } ^ { \\\\infty } { ( \\\\frac { \\\\sum _ { i = 1 } ^ { n } a _ { i } } { n } ) ^ { p } } \\\\lt { ( \\\\frac { p } { p - 1 } ) ^ { p } } \\\\sum _ { n = 1 } ^ { \\\\infty } { a _ { n } ^ { p } } $']\n",
    "\n",
    "\n",
    "predictions = ground_truths\n",
    "sbleu(ground_truths, predictions)"
   ]
  },
  {
   "cell_type": "code",
   "execution_count": 4,
   "id": "e18dc041",
   "metadata": {
    "execution": {
     "iopub.execute_input": "2023-11-28T07:07:06.958093Z",
     "iopub.status.busy": "2023-11-28T07:07:06.956870Z",
     "iopub.status.idle": "2023-11-28T07:07:06.968451Z",
     "shell.execute_reply": "2023-11-28T07:07:06.967240Z"
    },
    "papermill": {
     "duration": 0.020564,
     "end_time": "2023-11-28T07:07:06.971210",
     "exception": false,
     "start_time": "2023-11-28T07:07:06.950646",
     "status": "completed"
    },
    "tags": []
   },
   "outputs": [
    {
     "data": {
      "text/plain": [
       "0.16469372937379761"
      ]
     },
     "execution_count": 4,
     "metadata": {},
     "output_type": "execute_result"
    }
   ],
   "source": [
    "predictions = ['$ { \\\\sqrt { 3 } } $',\n",
    "             '$ S = 2 $',\n",
    "             '$ 1 . 4 _ 0 - \\\\frac { 2 } { 3 } \\\\times ( 2 0 ) = 5 $',\n",
    "             '$ a _ 0 = a _ 1 = a _ 2 $',\n",
    "             '$ M ( r ) $',\n",
    "             '$ { \\\\cdots + c . 6 } $',\n",
    "             '$ \\\\sum _ { a , b } ^ { - 1 } a $',\n",
    "             '$ x ( - a ) = - b ( x ^ { 0 } ) $',\n",
    "             '$ h = x = 3 x + 4 y _ 2 + \\\\frac { a } { 2 } $',\n",
    "             '$ \\\\sum _ { k = 1 } ^ { n } { 3 } { ( 1 _ { n } ) ^ { 2 } } \\\\leq \\\\sum _ { k = 1 } ^ { n } a _ { k } $']\n",
    "\n",
    "sbleu(ground_truths, predictions)"
   ]
  },
  {
   "cell_type": "code",
   "execution_count": null,
   "id": "2e604f04",
   "metadata": {
    "papermill": {
     "duration": 0.004062,
     "end_time": "2023-11-28T07:07:06.979769",
     "exception": false,
     "start_time": "2023-11-28T07:07:06.975707",
     "status": "completed"
    },
    "tags": []
   },
   "outputs": [],
   "source": []
  }
 ],
 "metadata": {
  "kaggle": {
   "accelerator": "none",
   "dataSources": [
    {
     "databundleVersionId": 6939284,
     "sourceId": 63517,
     "sourceType": "competition"
    },
    {
     "datasetId": 4072408,
     "sourceId": 7071479,
     "sourceType": "datasetVersion"
    }
   ],
   "dockerImageVersionId": 30558,
   "isGpuEnabled": false,
   "isInternetEnabled": true,
   "language": "python",
   "sourceType": "notebook"
  },
  "kernelspec": {
   "display_name": "Python 3",
   "language": "python",
   "name": "python3"
  },
  "language_info": {
   "codemirror_mode": {
    "name": "ipython",
    "version": 3
   },
   "file_extension": ".py",
   "mimetype": "text/x-python",
   "name": "python",
   "nbconvert_exporter": "python",
   "pygments_lexer": "ipython3",
   "version": "3.10.2"
  },
  "papermill": {
   "default_parameters": {},
   "duration": 27.565363,
   "end_time": "2023-11-28T07:07:07.807626",
   "environment_variables": {},
   "exception": null,
   "input_path": "__notebook__.ipynb",
   "output_path": "__notebook__.ipynb",
   "parameters": {},
   "start_time": "2023-11-28T07:06:40.242263",
   "version": "2.4.0"
  }
 },
 "nbformat": 4,
 "nbformat_minor": 5
}
